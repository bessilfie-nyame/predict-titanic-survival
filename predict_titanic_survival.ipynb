{
 "cells": [
  {
   "cell_type": "code",
   "execution_count": 1,
   "id": "13c54277",
   "metadata": {},
   "outputs": [],
   "source": [
    "import pandas as pd\n",
    "import numpy as np\n",
    "import matplotlib.pyplot as plt\n",
    "from sklearn.linear_model import LogisticRegression\n",
    "from sklearn.model_selection import train_test_split\n",
    "from sklearn.preprocessing import StandardScaler"
   ]
  },
  {
   "cell_type": "code",
   "execution_count": 3,
   "id": "9e9a0744",
   "metadata": {},
   "outputs": [
    {
     "name": "stdout",
     "output_type": "stream",
     "text": [
      "0.7935393258426966\n",
      "0.8156424581005587\n",
      "[[ 1.24819705 -0.41868712  0.97133716  0.50296137]]\n",
      "[('Sex', 1.2481970530040352), ('Age', -0.4186871178453579), ('FirstClass', 0.9713371618994415), ('SecondClass', 0.5029613749441112)]\n",
      "[[-7.46985188e-01 -7.61277679e-01 -5.77350269e-01 -4.90324503e-01]\n",
      " [ 1.33871463e+00 -9.89927839e-01  1.73205081e+00 -4.90324503e-01]\n",
      " [-7.46985188e-01  8.89520402e-04 -5.77350269e-01  2.03946569e+00]]\n",
      "[0 1 0]\n",
      "[[0.88778036 0.11221964]\n",
      " [0.05345198 0.94654802]\n",
      " [0.75305808 0.24694192]]\n"
     ]
    }
   ],
   "source": [
    "# Load the passenger data\n",
    "passengers = pd.read_csv(\"passengers.csv\")\n",
    "# print(passengers)\n",
    "\n",
    "# Update sex column to numerical\n",
    "sex = {'male':0, 'female':1}\n",
    "passengers['Sex'] = passengers.Sex.map(sex)\n",
    "# print(passengers.head())\n",
    "# Fill the nan values in the age column\n",
    "# print(passengers['Age'].values)\n",
    "passengers.Age.fillna(passengers.Age.mean(), inplace=True)\n",
    "# print(passengers['Age'].values)\n",
    "\n",
    "# Create a first class column\n",
    "passengers['FirstClass'] = passengers.Pclass.apply(lambda pcl: 1 if pcl == 1 else 0)\n",
    "# print(passengers.head())\n",
    "\n",
    "# Create a second class column\n",
    "passengers['SecondClass'] = passengers.Pclass.apply(lambda pcl: 1 if pcl == 2 else 0)\n",
    "# print(passengers.head())\n",
    "\n",
    "# Select the desired features\n",
    "features = passengers[['Sex', 'Age', 'FirstClass', 'SecondClass']]\n",
    "survival = passengers['Survived']\n",
    "# Perform train, test, split\n",
    "X_train, X_test, y_train, y_test = train_test_split(features, survival, test_size=0.2, random_state=5)\n",
    "# print(X_train.shape)\n",
    "# print(y_train.shape)\n",
    "# print(X_test.shape)\n",
    "# print(y_test.shape)\n",
    "# Scale the feature data so it has mean = 0 and standard deviation = 1\n",
    "scaler = StandardScaler()\n",
    "X_train = scaler.fit_transform(X_train)\n",
    "X_test = scaler.transform(X_test)\n",
    "# Create and train the model\n",
    "model = LogisticRegression()\n",
    "model.fit(X_train, y_train)\n",
    "\n",
    "# Score the model on the train data\n",
    "train_score = model.score(X_train, y_train)\n",
    "print(train_score)\n",
    "\n",
    "# Score the model on the test data\n",
    "test_score = model.score(X_test, y_test)\n",
    "print(test_score)\n",
    "\n",
    "# Analyze the coefficients\n",
    "coeffs = model.coef_\n",
    "print(coeffs)\n",
    "print(list(zip(['Sex','Age','FirstClass','SecondClass'],coeffs[0])))\n",
    "# Sample passenger features\n",
    "Jack = np.array([0.0,20.0,0.0,0.0])\n",
    "Rose = np.array([1.0,17.0,1.0,0.0])\n",
    "You = np.array([0.0,30.0,0.0,1.0])\n",
    "\n",
    "# Combine passenger arrays\n",
    "sample_passengers = np.array([Jack, Rose, You])\n",
    "\n",
    "# Scale the sample passenger features\n",
    "sample_passengers = scaler.transform(sample_passengers)\n",
    "print(sample_passengers)\n",
    "\n",
    "# Make survival predictions!\n",
    "survive = model.predict(sample_passengers)\n",
    "print(survive)\n",
    "survive_proba = model.predict_proba(sample_passengers)\n",
    "print(survive_proba)"
   ]
  },
  {
   "cell_type": "code",
   "execution_count": null,
   "id": "5f3644a8",
   "metadata": {},
   "outputs": [],
   "source": []
  }
 ],
 "metadata": {
  "kernelspec": {
   "display_name": "Python 3",
   "language": "python",
   "name": "python3"
  },
  "language_info": {
   "codemirror_mode": {
    "name": "ipython",
    "version": 3
   },
   "file_extension": ".py",
   "mimetype": "text/x-python",
   "name": "python",
   "nbconvert_exporter": "python",
   "pygments_lexer": "ipython3",
   "version": "3.8.5"
  }
 },
 "nbformat": 4,
 "nbformat_minor": 5
}
